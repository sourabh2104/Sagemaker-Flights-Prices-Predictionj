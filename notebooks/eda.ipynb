{
 "cells": [
  {
   "cell_type": "markdown",
   "id": "5b1a9f50-385e-4413-80bc-3544d0c00120",
   "metadata": {},
   "source": [
    "## 1. Import Libraries"
   ]
  },
  {
   "cell_type": "code",
   "execution_count": 5,
   "id": "223ea6ff-fa29-4b8d-9102-7cbf6b88590a",
   "metadata": {},
   "outputs": [
    {
     "ename": "ModuleNotFoundError",
     "evalue": "No module named 'numpy'",
     "output_type": "error",
     "traceback": [
      "\u001b[0;31m---------------------------------------------------------------------------\u001b[0m",
      "\u001b[0;31mModuleNotFoundError\u001b[0m                       Traceback (most recent call last)",
      "Cell \u001b[0;32mIn[5], line 1\u001b[0m\n\u001b[0;32m----> 1\u001b[0m \u001b[38;5;28;01mimport\u001b[39;00m \u001b[38;5;21;01mnumpy\u001b[39;00m \u001b[38;5;28;01mas\u001b[39;00m \u001b[38;5;21;01mnp\u001b[39;00m\n\u001b[1;32m      3\u001b[0m \u001b[38;5;28;01mimport\u001b[39;00m \u001b[38;5;21;01mpandas\u001b[39;00m \u001b[38;5;28;01mas\u001b[39;00m \u001b[38;5;21;01mpd\u001b[39;00m\n\u001b[1;32m      5\u001b[0m \u001b[38;5;28;01mimport\u001b[39;00m \u001b[38;5;21;01mseaborn\u001b[39;00m \u001b[38;5;28;01mas\u001b[39;00m \u001b[38;5;21;01msns\u001b[39;00m\n",
      "\u001b[0;31mModuleNotFoundError\u001b[0m: No module named 'numpy'"
     ]
    }
   ],
   "source": [
    "import numpy as np\n",
    "\n",
    "import pandas as pd\n",
    "\n",
    "import seaborn as sns\n",
    "\n",
    "import matplotlib.pyplot as plt\n",
    "\n",
    "import eda_helper_functions\n",
    "\n",
    "from sklearn.ensemble import IsolationForest"
   ]
  },
  {
   "cell_type": "markdown",
   "id": "05fa8831-e6c9-46be-855a-38dc8d95783d",
   "metadata": {},
   "source": [
    "## 2. Read the Training Data"
   ]
  },
  {
   "cell_type": "code",
   "execution_count": 6,
   "id": "cc9957be-d80e-41fb-9f85-89bc924ef462",
   "metadata": {},
   "outputs": [
    {
     "ename": "NameError",
     "evalue": "name 'pd' is not defined",
     "output_type": "error",
     "traceback": [
      "\u001b[0;31m---------------------------------------------------------------------------\u001b[0m",
      "\u001b[0;31mNameError\u001b[0m                                 Traceback (most recent call last)",
      "Cell \u001b[0;32mIn[6], line 3\u001b[0m\n\u001b[1;32m      1\u001b[0m file_path \u001b[38;5;241m=\u001b[39m \u001b[38;5;124mr\u001b[39m\u001b[38;5;124m\"\u001b[39m\u001b[38;5;124m/home/sourabh/Flights-Sagemaker-Project/data/train.csv\u001b[39m\u001b[38;5;124m\"\u001b[39m\n\u001b[0;32m----> 3\u001b[0m train \u001b[38;5;241m=\u001b[39m \u001b[43mpd\u001b[49m\u001b[38;5;241m.\u001b[39mread_csv(file_path)\n\u001b[1;32m      4\u001b[0m train\n",
      "\u001b[0;31mNameError\u001b[0m: name 'pd' is not defined"
     ]
    }
   ],
   "source": [
    "file_path = r\"/home/sourabh/Flights-Sagemaker-Project/data/train.csv\"\n",
    "\n",
    "train = pd.read_csv(file_path)\n",
    "train"
   ]
  },
  {
   "cell_type": "markdown",
   "id": "42e4f7db-7e97-4da3-b82d-47a6d9186ee3",
   "metadata": {},
   "source": [
    "## 2.1 Fixing Data Types"
   ]
  },
  {
   "cell_type": "code",
   "execution_count": 7,
   "id": "5f215916-8b98-4d08-969d-a20831f89cde",
   "metadata": {},
   "outputs": [
    {
     "ename": "NameError",
     "evalue": "name 'train' is not defined",
     "output_type": "error",
     "traceback": [
      "\u001b[0;31m---------------------------------------------------------------------------\u001b[0m",
      "\u001b[0;31mNameError\u001b[0m                                 Traceback (most recent call last)",
      "Cell \u001b[0;32mIn[7], line 1\u001b[0m\n\u001b[0;32m----> 1\u001b[0m \u001b[43mtrain\u001b[49m\u001b[38;5;241m.\u001b[39mdtypes\n",
      "\u001b[0;31mNameError\u001b[0m: name 'train' is not defined"
     ]
    }
   ],
   "source": [
    "train.dtypes"
   ]
  },
  {
   "cell_type": "code",
   "execution_count": 8,
   "id": "7fa43c4a-b3d0-4e6e-a85d-4387674fe47c",
   "metadata": {},
   "outputs": [
    {
     "ename": "NameError",
     "evalue": "name 'train' is not defined",
     "output_type": "error",
     "traceback": [
      "\u001b[0;31m---------------------------------------------------------------------------\u001b[0m",
      "\u001b[0;31mNameError\u001b[0m                                 Traceback (most recent call last)",
      "Cell \u001b[0;32mIn[8], line 1\u001b[0m\n\u001b[0;32m----> 1\u001b[0m train \u001b[38;5;241m=\u001b[39m \u001b[43mtrain\u001b[49m\u001b[38;5;241m.\u001b[39massign(\u001b[38;5;241m*\u001b[39m\u001b[38;5;241m*\u001b[39m{\n\u001b[1;32m      2\u001b[0m \tcol: pd\u001b[38;5;241m.\u001b[39mto_datetime(train\u001b[38;5;241m.\u001b[39mloc[:, col], dayfirst\u001b[38;5;241m=\u001b[39m\u001b[38;5;28;01mTrue\u001b[39;00m, \u001b[38;5;28mformat\u001b[39m\u001b[38;5;241m=\u001b[39m\u001b[38;5;124m\"\u001b[39m\u001b[38;5;124mmixed\u001b[39m\u001b[38;5;124m\"\u001b[39m)\n\u001b[1;32m      3\u001b[0m \t\u001b[38;5;28;01mfor\u001b[39;00m col \u001b[38;5;129;01min\u001b[39;00m [\u001b[38;5;124m\"\u001b[39m\u001b[38;5;124mdate_of_journey\u001b[39m\u001b[38;5;124m\"\u001b[39m, \u001b[38;5;124m\"\u001b[39m\u001b[38;5;124mdep_time\u001b[39m\u001b[38;5;124m\"\u001b[39m, \u001b[38;5;124m\"\u001b[39m\u001b[38;5;124marrival_time\u001b[39m\u001b[38;5;124m\"\u001b[39m]\n\u001b[1;32m      4\u001b[0m })\n\u001b[1;32m      6\u001b[0m train\u001b[38;5;241m.\u001b[39mdtypes\n",
      "\u001b[0;31mNameError\u001b[0m: name 'train' is not defined"
     ]
    }
   ],
   "source": [
    "train = train.assign(**{\n",
    "\tcol: pd.to_datetime(train.loc[:, col], dayfirst=True, format=\"mixed\")\n",
    "\tfor col in [\"date_of_journey\", \"dep_time\", \"arrival_time\"]\n",
    "})\n",
    "\n",
    "train.dtypes"
   ]
  },
  {
   "cell_type": "code",
   "execution_count": 9,
   "id": "5603044b-8328-4570-a197-af3d3560ffb4",
   "metadata": {},
   "outputs": [
    {
     "ename": "NameError",
     "evalue": "name 'train' is not defined",
     "output_type": "error",
     "traceback": [
      "\u001b[0;31m---------------------------------------------------------------------------\u001b[0m",
      "\u001b[0;31mNameError\u001b[0m                                 Traceback (most recent call last)",
      "Cell \u001b[0;32mIn[9], line 1\u001b[0m\n\u001b[0;32m----> 1\u001b[0m \u001b[43mtrain\u001b[49m\n",
      "\u001b[0;31mNameError\u001b[0m: name 'train' is not defined"
     ]
    }
   ],
   "source": [
    "train"
   ]
  },
  {
   "cell_type": "markdown",
   "id": "7916d173-d69b-4453-bb68-4d9baf7eabe6",
   "metadata": {},
   "source": [
    "## 3. High-level Summary of Data"
   ]
  },
  {
   "cell_type": "code",
   "execution_count": 10,
   "id": "3ad56175-d3b1-457f-8f69-e591df4a4994",
   "metadata": {},
   "outputs": [
    {
     "ename": "NameError",
     "evalue": "name 'train' is not defined",
     "output_type": "error",
     "traceback": [
      "\u001b[0;31m---------------------------------------------------------------------------\u001b[0m",
      "\u001b[0;31mNameError\u001b[0m                                 Traceback (most recent call last)",
      "Cell \u001b[0;32mIn[10], line 1\u001b[0m\n\u001b[0;32m----> 1\u001b[0m \u001b[43mtrain\u001b[49m\u001b[38;5;241m.\u001b[39minfo()\n",
      "\u001b[0;31mNameError\u001b[0m: name 'train' is not defined"
     ]
    }
   ],
   "source": [
    "train.info()"
   ]
  },
  {
   "cell_type": "code",
   "execution_count": 11,
   "id": "d991ec3b-3db8-40c7-a9f5-17b0577cbde4",
   "metadata": {},
   "outputs": [
    {
     "ename": "NameError",
     "evalue": "name 'train' is not defined",
     "output_type": "error",
     "traceback": [
      "\u001b[0;31m---------------------------------------------------------------------------\u001b[0m",
      "\u001b[0;31mNameError\u001b[0m                                 Traceback (most recent call last)",
      "Cell \u001b[0;32mIn[11], line 1\u001b[0m\n\u001b[0;32m----> 1\u001b[0m \u001b[43mtrain\u001b[49m\u001b[38;5;241m.\u001b[39mdescribe(include\u001b[38;5;241m=\u001b[39m\u001b[38;5;124m\"\u001b[39m\u001b[38;5;124mnumber\u001b[39m\u001b[38;5;124m\"\u001b[39m)\n",
      "\u001b[0;31mNameError\u001b[0m: name 'train' is not defined"
     ]
    }
   ],
   "source": [
    "train.describe(include=\"number\")"
   ]
  },
  {
   "cell_type": "code",
   "execution_count": 12,
   "id": "2126e4cc-b6a0-410e-aa79-7dd49a12d5dd",
   "metadata": {},
   "outputs": [
    {
     "ename": "NameError",
     "evalue": "name 'train' is not defined",
     "output_type": "error",
     "traceback": [
      "\u001b[0;31m---------------------------------------------------------------------------\u001b[0m",
      "\u001b[0;31mNameError\u001b[0m                                 Traceback (most recent call last)",
      "Cell \u001b[0;32mIn[12], line 2\u001b[0m\n\u001b[1;32m      1\u001b[0m (\n\u001b[0;32m----> 2\u001b[0m \t\u001b[43mtrain\u001b[49m\n\u001b[1;32m      3\u001b[0m \t\u001b[38;5;241m.\u001b[39massign(total_stops\u001b[38;5;241m=\u001b[39mtrain[\u001b[38;5;124m\"\u001b[39m\u001b[38;5;124mtotal_stops\u001b[39m\u001b[38;5;124m\"\u001b[39m]\u001b[38;5;241m.\u001b[39mastype(\u001b[38;5;28mobject\u001b[39m))\n\u001b[1;32m      4\u001b[0m \t\u001b[38;5;241m.\u001b[39mdescribe(include\u001b[38;5;241m=\u001b[39m\u001b[38;5;124m\"\u001b[39m\u001b[38;5;124mO\u001b[39m\u001b[38;5;124m\"\u001b[39m)\n\u001b[1;32m      5\u001b[0m )\n",
      "\u001b[0;31mNameError\u001b[0m: name 'train' is not defined"
     ]
    }
   ],
   "source": [
    "(\n",
    "\ttrain\n",
    "\t.assign(total_stops=train[\"total_stops\"].astype(object))\n",
    "\t.describe(include=\"O\")\n",
    ")"
   ]
  },
  {
   "cell_type": "markdown",
   "id": "e3c4ae5a-b110-473e-9543-4f518222ef9b",
   "metadata": {},
   "source": [
    "## 4. High-level analysis of Missing Values"
   ]
  },
  {
   "cell_type": "code",
   "execution_count": 24,
   "id": "be073ae7-719d-4304-a55f-65e10b95d811",
   "metadata": {},
   "outputs": [
    {
     "ename": "NameError",
     "evalue": "name 'eda_helper_functions' is not defined",
     "output_type": "error",
     "traceback": [
      "\u001b[0;31m---------------------------------------------------------------------------\u001b[0m",
      "\u001b[0;31mNameError\u001b[0m                                 Traceback (most recent call last)",
      "Cell \u001b[0;32mIn[24], line 1\u001b[0m\n\u001b[0;32m----> 1\u001b[0m \u001b[43meda_helper_functions\u001b[49m\u001b[38;5;241m.\u001b[39mmissing_info(train)\n",
      "\u001b[0;31mNameError\u001b[0m: name 'eda_helper_functions' is not defined"
     ]
    }
   ],
   "source": [
    "eda_helper_functions.missing_info(train)"
   ]
  },
  {
   "cell_type": "code",
   "execution_count": 13,
   "id": "43d3589a-2327-469e-993e-388862427072",
   "metadata": {},
   "outputs": [
    {
     "ename": "NameError",
     "evalue": "name 'pd' is not defined",
     "output_type": "error",
     "traceback": [
      "\u001b[0;31m---------------------------------------------------------------------------\u001b[0m",
      "\u001b[0;31mNameError\u001b[0m                                 Traceback (most recent call last)",
      "Cell \u001b[0;32mIn[13], line 1\u001b[0m\n\u001b[0;32m----> 1\u001b[0m temp \u001b[38;5;241m=\u001b[39m \u001b[43mpd\u001b[49m\u001b[38;5;241m.\u001b[39mread_csv(\u001b[38;5;124mr\u001b[39m\u001b[38;5;124m\"\u001b[39m\u001b[38;5;124mC:\u001b[39m\u001b[38;5;124m\\\u001b[39m\u001b[38;5;124mPython Programs\u001b[39m\u001b[38;5;124m\\\u001b[39m\u001b[38;5;124mdatasets\u001b[39m\u001b[38;5;124m\\\u001b[39m\u001b[38;5;124mtitanic.csv\u001b[39m\u001b[38;5;124m\"\u001b[39m)\n\u001b[1;32m      3\u001b[0m eda_helper_functions\u001b[38;5;241m.\u001b[39mmissing_info(temp)\n",
      "\u001b[0;31mNameError\u001b[0m: name 'pd' is not defined"
     ]
    }
   ],
   "source": [
    "temp = pd.read_csv(r\"C:\\Python Programs\\datasets\\titanic.csv\")\n",
    "\n",
    "eda_helper_functions.missing_info(temp)"
   ]
  },
  {
   "cell_type": "code",
   "execution_count": 14,
   "id": "40efab47-bb29-4b28-8b85-a665509c963d",
   "metadata": {},
   "outputs": [
    {
     "ename": "NameError",
     "evalue": "name 'eda_helper_functions' is not defined",
     "output_type": "error",
     "traceback": [
      "\u001b[0;31m---------------------------------------------------------------------------\u001b[0m",
      "\u001b[0;31mNameError\u001b[0m                                 Traceback (most recent call last)",
      "Cell \u001b[0;32mIn[14], line 1\u001b[0m\n\u001b[0;32m----> 1\u001b[0m \u001b[43meda_helper_functions\u001b[49m\u001b[38;5;241m.\u001b[39mplot_missing_info(temp)\n",
      "\u001b[0;31mNameError\u001b[0m: name 'eda_helper_functions' is not defined"
     ]
    }
   ],
   "source": [
    "eda_helper_functions.plot_missing_info(temp)"
   ]
  },
  {
   "cell_type": "markdown",
   "id": "be7a7a02",
   "metadata": {},
   "source": [
    "## 5. High-level analysis of Outliers"
   ]
  },
  {
   "cell_type": "code",
   "execution_count": 15,
   "id": "87473c92",
   "metadata": {},
   "outputs": [
    {
     "ename": "NameError",
     "evalue": "name 'IsolationForest' is not defined",
     "output_type": "error",
     "traceback": [
      "\u001b[0;31m---------------------------------------------------------------------------\u001b[0m",
      "\u001b[0;31mNameError\u001b[0m                                 Traceback (most recent call last)",
      "Cell \u001b[0;32mIn[15], line 1\u001b[0m\n\u001b[0;32m----> 1\u001b[0m forest \u001b[38;5;241m=\u001b[39m \u001b[43mIsolationForest\u001b[49m(n_estimators\u001b[38;5;241m=\u001b[39m\u001b[38;5;241m10\u001b[39m, random_state\u001b[38;5;241m=\u001b[39m\u001b[38;5;241m42\u001b[39m)\n",
      "\u001b[0;31mNameError\u001b[0m: name 'IsolationForest' is not defined"
     ]
    }
   ],
   "source": [
    "forest = IsolationForest(n_estimators=10, random_state=42)"
   ]
  },
  {
   "cell_type": "code",
   "execution_count": 16,
   "id": "e4050fb5",
   "metadata": {},
   "outputs": [
    {
     "ename": "NameError",
     "evalue": "name 'train' is not defined",
     "output_type": "error",
     "traceback": [
      "\u001b[0;31m---------------------------------------------------------------------------\u001b[0m",
      "\u001b[0;31mNameError\u001b[0m                                 Traceback (most recent call last)",
      "Cell \u001b[0;32mIn[16], line 2\u001b[0m\n\u001b[1;32m      1\u001b[0m (\n\u001b[0;32m----> 2\u001b[0m \t\u001b[43mtrain\u001b[49m\n\u001b[1;32m      3\u001b[0m \t\u001b[38;5;241m.\u001b[39massign(outlier\u001b[38;5;241m=\u001b[39mforest\u001b[38;5;241m.\u001b[39mfit_predict(\n\u001b[1;32m      4\u001b[0m \t\ttrain\n\u001b[1;32m      5\u001b[0m \t\t\u001b[38;5;241m.\u001b[39mdrop(columns\u001b[38;5;241m=\u001b[39m\u001b[38;5;124m\"\u001b[39m\u001b[38;5;124mprice\u001b[39m\u001b[38;5;124m\"\u001b[39m)\n\u001b[1;32m      6\u001b[0m \t\t\u001b[38;5;241m.\u001b[39mselect_dtypes(include\u001b[38;5;241m=\u001b[39m\u001b[38;5;124m\"\u001b[39m\u001b[38;5;124mnumber\u001b[39m\u001b[38;5;124m\"\u001b[39m)\n\u001b[1;32m      7\u001b[0m \t))\n\u001b[1;32m      8\u001b[0m \t\u001b[38;5;241m.\u001b[39mquery(\u001b[38;5;124m\"\u001b[39m\u001b[38;5;124moutlier == -1\u001b[39m\u001b[38;5;124m\"\u001b[39m)\n\u001b[1;32m      9\u001b[0m \t\u001b[38;5;66;03m# .duration\u001b[39;00m\n\u001b[1;32m     10\u001b[0m \t\u001b[38;5;66;03m# .describe()\u001b[39;00m\n\u001b[1;32m     11\u001b[0m )\n",
      "\u001b[0;31mNameError\u001b[0m: name 'train' is not defined"
     ]
    }
   ],
   "source": [
    "(\n",
    "\ttrain\n",
    "\t.assign(outlier=forest.fit_predict(\n",
    "\t\ttrain\n",
    "\t\t.drop(columns=\"price\")\n",
    "\t\t.select_dtypes(include=\"number\")\n",
    "\t))\n",
    "\t.query(\"outlier == -1\")\n",
    "\t# .duration\n",
    "\t# .describe()\n",
    ")"
   ]
  },
  {
   "cell_type": "markdown",
   "id": "16d9eb2f",
   "metadata": {},
   "source": [
    "## 6. Pair Plots"
   ]
  },
  {
   "cell_type": "code",
   "execution_count": 17,
   "id": "0c7cfddf",
   "metadata": {},
   "outputs": [
    {
     "ename": "NameError",
     "evalue": "name 'eda_helper_functions' is not defined",
     "output_type": "error",
     "traceback": [
      "\u001b[0;31m---------------------------------------------------------------------------\u001b[0m",
      "\u001b[0;31mNameError\u001b[0m                                 Traceback (most recent call last)",
      "Cell \u001b[0;32mIn[17], line 1\u001b[0m\n\u001b[0;32m----> 1\u001b[0m \u001b[43meda_helper_functions\u001b[49m\u001b[38;5;241m.\u001b[39mpair_plots(train)\n",
      "\u001b[0;31mNameError\u001b[0m: name 'eda_helper_functions' is not defined"
     ]
    }
   ],
   "source": [
    "eda_helper_functions.pair_plots(train)"
   ]
  },
  {
   "cell_type": "markdown",
   "id": "59092b51",
   "metadata": {},
   "source": [
    "## Pair Plots"
   ]
  },
  {
   "cell_type": "markdown",
   "id": "6446f478",
   "metadata": {},
   "source": [
    "## 7. Correlation Analysis"
   ]
  },
  {
   "cell_type": "code",
   "execution_count": 18,
   "id": "1599e9b8",
   "metadata": {},
   "outputs": [
    {
     "ename": "NameError",
     "evalue": "name 'eda_helper_functions' is not defined",
     "output_type": "error",
     "traceback": [
      "\u001b[0;31m---------------------------------------------------------------------------\u001b[0m",
      "\u001b[0;31mNameError\u001b[0m                                 Traceback (most recent call last)",
      "Cell \u001b[0;32mIn[18], line 1\u001b[0m\n\u001b[0;32m----> 1\u001b[0m \u001b[43meda_helper_functions\u001b[49m\u001b[38;5;241m.\u001b[39mcorrelation_heatmap(train)\n",
      "\u001b[0;31mNameError\u001b[0m: name 'eda_helper_functions' is not defined"
     ]
    }
   ],
   "source": [
    "eda_helper_functions.correlation_heatmap(train)"
   ]
  },
  {
   "cell_type": "code",
   "execution_count": 19,
   "id": "158639d6",
   "metadata": {},
   "outputs": [
    {
     "ename": "NameError",
     "evalue": "name 'eda_helper_functions' is not defined",
     "output_type": "error",
     "traceback": [
      "\u001b[0;31m---------------------------------------------------------------------------\u001b[0m",
      "\u001b[0;31mNameError\u001b[0m                                 Traceback (most recent call last)",
      "Cell \u001b[0;32mIn[19], line 1\u001b[0m\n\u001b[0;32m----> 1\u001b[0m \u001b[43meda_helper_functions\u001b[49m\u001b[38;5;241m.\u001b[39mcramersV_heatmap(train)\n",
      "\u001b[0;31mNameError\u001b[0m: name 'eda_helper_functions' is not defined"
     ]
    }
   ],
   "source": [
    "eda_helper_functions.cramersV_heatmap(train)"
   ]
  },
  {
   "cell_type": "markdown",
   "id": "47a7fdf9",
   "metadata": {},
   "source": [
    "## 8. Detailed Analysis"
   ]
  },
  {
   "cell_type": "code",
   "execution_count": 20,
   "id": "880b424d",
   "metadata": {},
   "outputs": [
    {
     "ename": "NameError",
     "evalue": "name 'train' is not defined",
     "output_type": "error",
     "traceback": [
      "\u001b[0;31m---------------------------------------------------------------------------\u001b[0m",
      "\u001b[0;31mNameError\u001b[0m                                 Traceback (most recent call last)",
      "Cell \u001b[0;32mIn[20], line 1\u001b[0m\n\u001b[0;32m----> 1\u001b[0m \u001b[43mtrain\u001b[49m\u001b[38;5;241m.\u001b[39mcolumns\n",
      "\u001b[0;31mNameError\u001b[0m: name 'train' is not defined"
     ]
    }
   ],
   "source": [
    "train.columns"
   ]
  },
  {
   "cell_type": "markdown",
   "id": "e2571cce",
   "metadata": {},
   "source": [
    "## 8.1 airline"
   ]
  },
  {
   "cell_type": "code",
   "execution_count": 21,
   "id": "12790060",
   "metadata": {},
   "outputs": [
    {
     "ename": "NameError",
     "evalue": "name 'train' is not defined",
     "output_type": "error",
     "traceback": [
      "\u001b[0;31m---------------------------------------------------------------------------\u001b[0m",
      "\u001b[0;31mNameError\u001b[0m                                 Traceback (most recent call last)",
      "Cell \u001b[0;32mIn[21], line 1\u001b[0m\n\u001b[0;32m----> 1\u001b[0m \u001b[43mtrain\u001b[49m\u001b[38;5;241m.\u001b[39mairline\n",
      "\u001b[0;31mNameError\u001b[0m: name 'train' is not defined"
     ]
    }
   ],
   "source": [
    "train.airline"
   ]
  },
  {
   "cell_type": "code",
   "execution_count": 22,
   "id": "d99ee64d",
   "metadata": {},
   "outputs": [
    {
     "ename": "NameError",
     "evalue": "name 'eda_helper_functions' is not defined",
     "output_type": "error",
     "traceback": [
      "\u001b[0;31m---------------------------------------------------------------------------\u001b[0m",
      "\u001b[0;31mNameError\u001b[0m                                 Traceback (most recent call last)",
      "Cell \u001b[0;32mIn[22], line 1\u001b[0m\n\u001b[0;32m----> 1\u001b[0m \u001b[43meda_helper_functions\u001b[49m\u001b[38;5;241m.\u001b[39mcat_summary(train, \u001b[38;5;124m\"\u001b[39m\u001b[38;5;124mairline\u001b[39m\u001b[38;5;124m\"\u001b[39m)\n",
      "\u001b[0;31mNameError\u001b[0m: name 'eda_helper_functions' is not defined"
     ]
    }
   ],
   "source": [
    "eda_helper_functions.cat_summary(train, \"airline\")"
   ]
  },
  {
   "cell_type": "code",
   "execution_count": 23,
   "id": "7a588cd2",
   "metadata": {},
   "outputs": [
    {
     "ename": "NameError",
     "evalue": "name 'eda_helper_functions' is not defined",
     "output_type": "error",
     "traceback": [
      "\u001b[0;31m---------------------------------------------------------------------------\u001b[0m",
      "\u001b[0;31mNameError\u001b[0m                                 Traceback (most recent call last)",
      "Cell \u001b[0;32mIn[23], line 1\u001b[0m\n\u001b[0;32m----> 1\u001b[0m \u001b[43meda_helper_functions\u001b[49m\u001b[38;5;241m.\u001b[39mcat_univar_plots(train, \u001b[38;5;124m\"\u001b[39m\u001b[38;5;124mairline\u001b[39m\u001b[38;5;124m\"\u001b[39m)\n",
      "\u001b[0;31mNameError\u001b[0m: name 'eda_helper_functions' is not defined"
     ]
    }
   ],
   "source": [
    "eda_helper_functions.cat_univar_plots(train, \"airline\")"
   ]
  },
  {
   "cell_type": "code",
   "execution_count": 24,
   "id": "6ad08d3e",
   "metadata": {},
   "outputs": [
    {
     "ename": "NameError",
     "evalue": "name 'eda_helper_functions' is not defined",
     "output_type": "error",
     "traceback": [
      "\u001b[0;31m---------------------------------------------------------------------------\u001b[0m",
      "\u001b[0;31mNameError\u001b[0m                                 Traceback (most recent call last)",
      "Cell \u001b[0;32mIn[24], line 1\u001b[0m\n\u001b[0;32m----> 1\u001b[0m \u001b[43meda_helper_functions\u001b[49m\u001b[38;5;241m.\u001b[39mcat_univar_plots(train, \u001b[38;5;124m\"\u001b[39m\u001b[38;5;124mairline\u001b[39m\u001b[38;5;124m\"\u001b[39m, show_wordcloud\u001b[38;5;241m=\u001b[39m\u001b[38;5;28;01mFalse\u001b[39;00m, k\u001b[38;5;241m=\u001b[39m\u001b[38;5;241m3\u001b[39m)\n",
      "\u001b[0;31mNameError\u001b[0m: name 'eda_helper_functions' is not defined"
     ]
    }
   ],
   "source": [
    "eda_helper_functions.cat_univar_plots(train, \"airline\", show_wordcloud=False, k=3)"
   ]
  },
  {
   "cell_type": "code",
   "execution_count": 25,
   "id": "bcf02a09",
   "metadata": {},
   "outputs": [
    {
     "ename": "NameError",
     "evalue": "name 'eda_helper_functions' is not defined",
     "output_type": "error",
     "traceback": [
      "\u001b[0;31m---------------------------------------------------------------------------\u001b[0m",
      "\u001b[0;31mNameError\u001b[0m                                 Traceback (most recent call last)",
      "Cell \u001b[0;32mIn[25], line 1\u001b[0m\n\u001b[0;32m----> 1\u001b[0m \u001b[43meda_helper_functions\u001b[49m\u001b[38;5;241m.\u001b[39mnum_cat_bivar_plots(\n\u001b[1;32m      2\u001b[0m \tdata\u001b[38;5;241m=\u001b[39mtrain,\n\u001b[1;32m      3\u001b[0m \tnum_var\u001b[38;5;241m=\u001b[39m\u001b[38;5;124m\"\u001b[39m\u001b[38;5;124mprice\u001b[39m\u001b[38;5;124m\"\u001b[39m,\n\u001b[1;32m      4\u001b[0m \tcat_var\u001b[38;5;241m=\u001b[39m\u001b[38;5;124m\"\u001b[39m\u001b[38;5;124mairline\u001b[39m\u001b[38;5;124m\"\u001b[39m\n\u001b[1;32m      5\u001b[0m )\n",
      "\u001b[0;31mNameError\u001b[0m: name 'eda_helper_functions' is not defined"
     ]
    }
   ],
   "source": [
    "eda_helper_functions.num_cat_bivar_plots(\n",
    "\tdata=train,\n",
    "\tnum_var=\"price\",\n",
    "\tcat_var=\"airline\"\n",
    ")"
   ]
  },
  {
   "cell_type": "code",
   "execution_count": 26,
   "id": "2515f37f",
   "metadata": {},
   "outputs": [
    {
     "ename": "NameError",
     "evalue": "name 'eda_helper_functions' is not defined",
     "output_type": "error",
     "traceback": [
      "\u001b[0;31m---------------------------------------------------------------------------\u001b[0m",
      "\u001b[0;31mNameError\u001b[0m                                 Traceback (most recent call last)",
      "Cell \u001b[0;32mIn[26], line 1\u001b[0m\n\u001b[0;32m----> 1\u001b[0m \u001b[43meda_helper_functions\u001b[49m\u001b[38;5;241m.\u001b[39mnum_cat_hyp_testing(train, \u001b[38;5;124m\"\u001b[39m\u001b[38;5;124mprice\u001b[39m\u001b[38;5;124m\"\u001b[39m, \u001b[38;5;124m\"\u001b[39m\u001b[38;5;124mairline\u001b[39m\u001b[38;5;124m\"\u001b[39m)\n",
      "\u001b[0;31mNameError\u001b[0m: name 'eda_helper_functions' is not defined"
     ]
    }
   ],
   "source": [
    "eda_helper_functions.num_cat_hyp_testing(train, \"price\", \"airline\")"
   ]
  },
  {
   "cell_type": "code",
   "execution_count": 28,
   "id": "23a87831",
   "metadata": {},
   "outputs": [
    {
     "ename": "NameError",
     "evalue": "name 'sns' is not defined",
     "output_type": "error",
     "traceback": [
      "\u001b[0;31m---------------------------------------------------------------------------\u001b[0m",
      "\u001b[0;31mNameError\u001b[0m                                 Traceback (most recent call last)",
      "Cell \u001b[0;32mIn[28], line 1\u001b[0m\n\u001b[0;32m----> 1\u001b[0m airline_grid \u001b[38;5;241m=\u001b[39m \u001b[43msns\u001b[49m\u001b[38;5;241m.\u001b[39mFacetGrid(\n\u001b[1;32m      2\u001b[0m \tdata\u001b[38;5;241m=\u001b[39mtrain,\n\u001b[1;32m      3\u001b[0m \tcol\u001b[38;5;241m=\u001b[39m\u001b[38;5;124m\"\u001b[39m\u001b[38;5;124mdestination\u001b[39m\u001b[38;5;124m\"\u001b[39m,\n\u001b[1;32m      4\u001b[0m \tcol_wrap\u001b[38;5;241m=\u001b[39m\u001b[38;5;241m3\u001b[39m,\n\u001b[1;32m      5\u001b[0m \theight\u001b[38;5;241m=\u001b[39m\u001b[38;5;241m4\u001b[39m,\n\u001b[1;32m      6\u001b[0m \taspect\u001b[38;5;241m=\u001b[39m\u001b[38;5;241m1.2\u001b[39m,\n\u001b[1;32m      7\u001b[0m \tsharey\u001b[38;5;241m=\u001b[39m\u001b[38;5;28;01mTrue\u001b[39;00m\n\u001b[1;32m      8\u001b[0m )\n\u001b[1;32m     10\u001b[0m airline_grid\u001b[38;5;241m.\u001b[39mmap(sns\u001b[38;5;241m.\u001b[39mbarplot, \u001b[38;5;124m\"\u001b[39m\u001b[38;5;124mairline\u001b[39m\u001b[38;5;124m\"\u001b[39m, \u001b[38;5;124m\"\u001b[39m\u001b[38;5;124mprice\u001b[39m\u001b[38;5;124m\"\u001b[39m, order\u001b[38;5;241m=\u001b[39mtrain\u001b[38;5;241m.\u001b[39mairline\u001b[38;5;241m.\u001b[39munique())\n\u001b[1;32m     12\u001b[0m \u001b[38;5;28;01mfor\u001b[39;00m ax \u001b[38;5;129;01min\u001b[39;00m airline_grid\u001b[38;5;241m.\u001b[39maxes[\u001b[38;5;241m3\u001b[39m:]:\n",
      "\u001b[0;31mNameError\u001b[0m: name 'sns' is not defined"
     ]
    }
   ],
   "source": [
    "airline_grid = sns.FacetGrid(\n",
    "\tdata=train,\n",
    "\tcol=\"destination\",\n",
    "\tcol_wrap=3,\n",
    "\theight=4,\n",
    "\taspect=1.2,\n",
    "\tsharey=True\n",
    ")\n",
    "\n",
    "airline_grid.map(sns.barplot, \"airline\", \"price\", order=train.airline.unique())\n",
    "\n",
    "for ax in airline_grid.axes[3:]:\n",
    "\teda_helper_functions.rotate_xlabels(ax)"
   ]
  },
  {
   "cell_type": "markdown",
   "id": "3af4e217",
   "metadata": {},
   "source": [
    "## 8.2 date_of_journey"
   ]
  },
  {
   "cell_type": "code",
   "execution_count": 29,
   "id": "d8712eb4",
   "metadata": {},
   "outputs": [
    {
     "ename": "NameError",
     "evalue": "name 'train' is not defined",
     "output_type": "error",
     "traceback": [
      "\u001b[0;31m---------------------------------------------------------------------------\u001b[0m",
      "\u001b[0;31mNameError\u001b[0m                                 Traceback (most recent call last)",
      "Cell \u001b[0;32mIn[29], line 1\u001b[0m\n\u001b[0;32m----> 1\u001b[0m \u001b[43mtrain\u001b[49m\u001b[38;5;241m.\u001b[39mdate_of_journey\n",
      "\u001b[0;31mNameError\u001b[0m: name 'train' is not defined"
     ]
    }
   ],
   "source": [
    "train.date_of_journey"
   ]
  },
  {
   "cell_type": "code",
   "execution_count": 30,
   "id": "63b5283f",
   "metadata": {},
   "outputs": [
    {
     "ename": "NameError",
     "evalue": "name 'eda_helper_functions' is not defined",
     "output_type": "error",
     "traceback": [
      "\u001b[0;31m---------------------------------------------------------------------------\u001b[0m",
      "\u001b[0;31mNameError\u001b[0m                                 Traceback (most recent call last)",
      "Cell \u001b[0;32mIn[30], line 1\u001b[0m\n\u001b[0;32m----> 1\u001b[0m \u001b[43meda_helper_functions\u001b[49m\u001b[38;5;241m.\u001b[39mdt_univar_plots(\n\u001b[1;32m      2\u001b[0m \tdata\u001b[38;5;241m=\u001b[39mtrain,\n\u001b[1;32m      3\u001b[0m \tvar\u001b[38;5;241m=\u001b[39m\u001b[38;5;124m\"\u001b[39m\u001b[38;5;124mdate_of_journey\u001b[39m\u001b[38;5;124m\"\u001b[39m,\n\u001b[1;32m      4\u001b[0m \ttarget\u001b[38;5;241m=\u001b[39m\u001b[38;5;124m\"\u001b[39m\u001b[38;5;124mprice\u001b[39m\u001b[38;5;124m\"\u001b[39m\n\u001b[1;32m      5\u001b[0m )\n",
      "\u001b[0;31mNameError\u001b[0m: name 'eda_helper_functions' is not defined"
     ]
    }
   ],
   "source": [
    "eda_helper_functions.dt_univar_plots(\n",
    "\tdata=train,\n",
    "\tvar=\"date_of_journey\",\n",
    "\ttarget=\"price\"\n",
    ")"
   ]
  },
  {
   "cell_type": "code",
   "execution_count": 32,
   "id": "ec9fcb2a",
   "metadata": {},
   "outputs": [
    {
     "ename": "NameError",
     "evalue": "name 'train' is not defined",
     "output_type": "error",
     "traceback": [
      "\u001b[0;31m---------------------------------------------------------------------------\u001b[0m",
      "\u001b[0;31mNameError\u001b[0m                                 Traceback (most recent call last)",
      "Cell \u001b[0;32mIn[32], line 2\u001b[0m\n\u001b[1;32m      1\u001b[0m (\n\u001b[0;32m----> 2\u001b[0m \t\u001b[43mtrain\u001b[49m\n\u001b[1;32m      3\u001b[0m \t\u001b[38;5;241m.\u001b[39mgroupby(pd\u001b[38;5;241m.\u001b[39mGrouper(key\u001b[38;5;241m=\u001b[39m\u001b[38;5;124m\"\u001b[39m\u001b[38;5;124mdate_of_journey\u001b[39m\u001b[38;5;124m\"\u001b[39m, freq\u001b[38;5;241m=\u001b[39m\u001b[38;5;124m\"\u001b[39m\u001b[38;5;124mM\u001b[39m\u001b[38;5;124m\"\u001b[39m))\n\u001b[1;32m      4\u001b[0m \t\u001b[38;5;241m.\u001b[39mprice\u001b[38;5;241m.\u001b[39mmean()\n\u001b[1;32m      5\u001b[0m \t\u001b[38;5;241m.\u001b[39mto_frame()\n\u001b[1;32m      6\u001b[0m \t\u001b[38;5;241m.\u001b[39mset_axis([\u001b[38;5;124m\"\u001b[39m\u001b[38;5;124mMarch\u001b[39m\u001b[38;5;124m\"\u001b[39m, \u001b[38;5;124m\"\u001b[39m\u001b[38;5;124mApril\u001b[39m\u001b[38;5;124m\"\u001b[39m, \u001b[38;5;124m\"\u001b[39m\u001b[38;5;124mMay\u001b[39m\u001b[38;5;124m\"\u001b[39m, \u001b[38;5;124m\"\u001b[39m\u001b[38;5;124mJune\u001b[39m\u001b[38;5;124m\"\u001b[39m], axis\u001b[38;5;241m=\u001b[39m\u001b[38;5;241m0\u001b[39m)\n\u001b[1;32m      7\u001b[0m \t\u001b[38;5;241m.\u001b[39mrename_axis(index\u001b[38;5;241m=\u001b[39m\u001b[38;5;124m\"\u001b[39m\u001b[38;5;124mmonth\u001b[39m\u001b[38;5;124m\"\u001b[39m)\n\u001b[1;32m      8\u001b[0m \t\u001b[38;5;241m.\u001b[39mplot(\n\u001b[1;32m      9\u001b[0m \t\tkind\u001b[38;5;241m=\u001b[39m\u001b[38;5;124m\"\u001b[39m\u001b[38;5;124mbar\u001b[39m\u001b[38;5;124m\"\u001b[39m,\n\u001b[1;32m     10\u001b[0m \t\tfigsize\u001b[38;5;241m=\u001b[39m(\u001b[38;5;241m8\u001b[39m, \u001b[38;5;241m4\u001b[39m),\n\u001b[1;32m     11\u001b[0m \t\tedgecolor\u001b[38;5;241m=\u001b[39m\u001b[38;5;124m\"\u001b[39m\u001b[38;5;124mblack\u001b[39m\u001b[38;5;124m\"\u001b[39m\n\u001b[1;32m     12\u001b[0m \t)\n\u001b[1;32m     13\u001b[0m )\n\u001b[1;32m     15\u001b[0m ax \u001b[38;5;241m=\u001b[39m plt\u001b[38;5;241m.\u001b[39mgca()\n\u001b[1;32m     16\u001b[0m eda_helper_functions\u001b[38;5;241m.\u001b[39mrotate_xlabels(ax)\n",
      "\u001b[0;31mNameError\u001b[0m: name 'train' is not defined"
     ]
    }
   ],
   "source": [
    "(\n",
    "\ttrain\n",
    "\t.groupby(pd.Grouper(key=\"date_of_journey\", freq=\"M\"))\n",
    "\t.price.mean()\n",
    "\t.to_frame()\n",
    "\t.set_axis([\"March\", \"April\", \"May\", \"June\"], axis=0)\n",
    "\t.rename_axis(index=\"month\")\n",
    "\t.plot(\n",
    "\t\tkind=\"bar\",\n",
    "\t\tfigsize=(8, 4),\n",
    "\t\tedgecolor=\"black\"\n",
    "\t)\n",
    ")\n",
    "\n",
    "ax = plt.gca()\n",
    "eda_helper_functions.rotate_xlabels(ax)"
   ]
  },
  {
   "cell_type": "code",
   "execution_count": 33,
   "id": "daab2c01",
   "metadata": {},
   "outputs": [
    {
     "ename": "NameError",
     "evalue": "name 'train' is not defined",
     "output_type": "error",
     "traceback": [
      "\u001b[0;31m---------------------------------------------------------------------------\u001b[0m",
      "\u001b[0;31mNameError\u001b[0m                                 Traceback (most recent call last)",
      "Cell \u001b[0;32mIn[33], line 2\u001b[0m\n\u001b[1;32m      1\u001b[0m (\n\u001b[0;32m----> 2\u001b[0m \t\u001b[43mtrain\u001b[49m\n\u001b[1;32m      3\u001b[0m \t\u001b[38;5;241m.\u001b[39mgroupby(pd\u001b[38;5;241m.\u001b[39mGrouper(key\u001b[38;5;241m=\u001b[39m\u001b[38;5;124m\"\u001b[39m\u001b[38;5;124mdate_of_journey\u001b[39m\u001b[38;5;124m\"\u001b[39m, freq\u001b[38;5;241m=\u001b[39m\u001b[38;5;124m\"\u001b[39m\u001b[38;5;124mW\u001b[39m\u001b[38;5;124m\"\u001b[39m))\n\u001b[1;32m      4\u001b[0m \t\u001b[38;5;241m.\u001b[39mprice\u001b[38;5;241m.\u001b[39mmean()\n\u001b[1;32m      5\u001b[0m \t\u001b[38;5;241m.\u001b[39mto_frame()\n\u001b[1;32m      6\u001b[0m \t\u001b[38;5;241m.\u001b[39mrename_axis(index\u001b[38;5;241m=\u001b[39m\u001b[38;5;124m\"\u001b[39m\u001b[38;5;124mweek\u001b[39m\u001b[38;5;124m\"\u001b[39m)\n\u001b[1;32m      7\u001b[0m \t\u001b[38;5;241m.\u001b[39mplot(\n\u001b[1;32m      8\u001b[0m \t\tkind\u001b[38;5;241m=\u001b[39m\u001b[38;5;124m\"\u001b[39m\u001b[38;5;124mbar\u001b[39m\u001b[38;5;124m\"\u001b[39m,\n\u001b[1;32m      9\u001b[0m \t\tfigsize\u001b[38;5;241m=\u001b[39m(\u001b[38;5;241m8\u001b[39m, \u001b[38;5;241m4\u001b[39m),\n\u001b[1;32m     10\u001b[0m \t\tedgecolor\u001b[38;5;241m=\u001b[39m\u001b[38;5;124m\"\u001b[39m\u001b[38;5;124mblack\u001b[39m\u001b[38;5;124m\"\u001b[39m\n\u001b[1;32m     11\u001b[0m \t)\n\u001b[1;32m     12\u001b[0m )\n\u001b[1;32m     14\u001b[0m ax \u001b[38;5;241m=\u001b[39m plt\u001b[38;5;241m.\u001b[39mgca()\n\u001b[1;32m     15\u001b[0m eda_helper_functions\u001b[38;5;241m.\u001b[39mrotate_xlabels(ax)\n",
      "\u001b[0;31mNameError\u001b[0m: name 'train' is not defined"
     ]
    }
   ],
   "source": [
    "(\n",
    "\ttrain\n",
    "\t.groupby(pd.Grouper(key=\"date_of_journey\", freq=\"W\"))\n",
    "\t.price.mean()\n",
    "\t.to_frame()\n",
    "\t.rename_axis(index=\"week\")\n",
    "\t.plot(\n",
    "\t\tkind=\"bar\",\n",
    "\t\tfigsize=(8, 4),\n",
    "\t\tedgecolor=\"black\"\n",
    "\t)\n",
    ")\n",
    "\n",
    "ax = plt.gca()\n",
    "eda_helper_functions.rotate_xlabels(ax)"
   ]
  },
  {
   "cell_type": "code",
   "execution_count": 34,
   "id": "9ca05bea",
   "metadata": {},
   "outputs": [
    {
     "ename": "NameError",
     "evalue": "name 'train' is not defined",
     "output_type": "error",
     "traceback": [
      "\u001b[0;31m---------------------------------------------------------------------------\u001b[0m",
      "\u001b[0;31mNameError\u001b[0m                                 Traceback (most recent call last)",
      "Cell \u001b[0;32mIn[34], line 2\u001b[0m\n\u001b[1;32m      1\u001b[0m (\n\u001b[0;32m----> 2\u001b[0m \t\u001b[43mtrain\u001b[49m\n\u001b[1;32m      3\u001b[0m \t\u001b[38;5;241m.\u001b[39mgroupby([pd\u001b[38;5;241m.\u001b[39mGrouper(key\u001b[38;5;241m=\u001b[39m\u001b[38;5;124m\"\u001b[39m\u001b[38;5;124mdate_of_journey\u001b[39m\u001b[38;5;124m\"\u001b[39m, freq\u001b[38;5;241m=\u001b[39m\u001b[38;5;124m\"\u001b[39m\u001b[38;5;124mM\u001b[39m\u001b[38;5;124m\"\u001b[39m), \u001b[38;5;124m\"\u001b[39m\u001b[38;5;124msource\u001b[39m\u001b[38;5;124m\"\u001b[39m])\n\u001b[1;32m      4\u001b[0m \t\u001b[38;5;241m.\u001b[39mprice\u001b[38;5;241m.\u001b[39mmean()\n\u001b[1;32m      5\u001b[0m \t\u001b[38;5;241m.\u001b[39munstack(fill_value\u001b[38;5;241m=\u001b[39m\u001b[38;5;241m0\u001b[39m)\n\u001b[1;32m      6\u001b[0m \t\u001b[38;5;241m.\u001b[39mset_axis([\u001b[38;5;124m\"\u001b[39m\u001b[38;5;124mMarch\u001b[39m\u001b[38;5;124m\"\u001b[39m, \u001b[38;5;124m\"\u001b[39m\u001b[38;5;124mApril\u001b[39m\u001b[38;5;124m\"\u001b[39m, \u001b[38;5;124m\"\u001b[39m\u001b[38;5;124mMay\u001b[39m\u001b[38;5;124m\"\u001b[39m, \u001b[38;5;124m\"\u001b[39m\u001b[38;5;124mJune\u001b[39m\u001b[38;5;124m\"\u001b[39m], axis\u001b[38;5;241m=\u001b[39m\u001b[38;5;241m0\u001b[39m)\n\u001b[1;32m      7\u001b[0m \t\u001b[38;5;241m.\u001b[39mrename_axis(index\u001b[38;5;241m=\u001b[39m\u001b[38;5;124m\"\u001b[39m\u001b[38;5;124mmonth\u001b[39m\u001b[38;5;124m\"\u001b[39m)\n\u001b[1;32m      8\u001b[0m \t\u001b[38;5;241m.\u001b[39mplot(\n\u001b[1;32m      9\u001b[0m \t\tkind\u001b[38;5;241m=\u001b[39m\u001b[38;5;124m\"\u001b[39m\u001b[38;5;124mbar\u001b[39m\u001b[38;5;124m\"\u001b[39m,\n\u001b[1;32m     10\u001b[0m \t\tfigsize\u001b[38;5;241m=\u001b[39m(\u001b[38;5;241m12\u001b[39m, \u001b[38;5;241m4\u001b[39m),\n\u001b[1;32m     11\u001b[0m \t\tedgecolor\u001b[38;5;241m=\u001b[39m\u001b[38;5;124m\"\u001b[39m\u001b[38;5;124mblack\u001b[39m\u001b[38;5;124m\"\u001b[39m\n\u001b[1;32m     12\u001b[0m \t)\n\u001b[1;32m     13\u001b[0m )\n\u001b[1;32m     15\u001b[0m ax \u001b[38;5;241m=\u001b[39m plt\u001b[38;5;241m.\u001b[39mgca()\n\u001b[1;32m     17\u001b[0m ax\u001b[38;5;241m.\u001b[39mlegend(\n\u001b[1;32m     18\u001b[0m \tloc\u001b[38;5;241m=\u001b[39m\u001b[38;5;124m\"\u001b[39m\u001b[38;5;124mupper left\u001b[39m\u001b[38;5;124m\"\u001b[39m,\n\u001b[1;32m     19\u001b[0m \tbbox_to_anchor\u001b[38;5;241m=\u001b[39m(\u001b[38;5;241m1\u001b[39m, \u001b[38;5;241m1\u001b[39m)\n\u001b[1;32m     20\u001b[0m )\n",
      "\u001b[0;31mNameError\u001b[0m: name 'train' is not defined"
     ]
    }
   ],
   "source": [
    "(\n",
    "\ttrain\n",
    "\t.groupby([pd.Grouper(key=\"date_of_journey\", freq=\"M\"), \"source\"])\n",
    "\t.price.mean()\n",
    "\t.unstack(fill_value=0)\n",
    "\t.set_axis([\"March\", \"April\", \"May\", \"June\"], axis=0)\n",
    "\t.rename_axis(index=\"month\")\n",
    "\t.plot(\n",
    "\t\tkind=\"bar\",\n",
    "\t\tfigsize=(12, 4),\n",
    "\t\tedgecolor=\"black\"\n",
    "\t)\n",
    ")\n",
    "\n",
    "ax = plt.gca()\n",
    "\n",
    "ax.legend(\n",
    "\tloc=\"upper left\",\n",
    "\tbbox_to_anchor=(1, 1)\n",
    ")\n",
    "\n",
    "eda_helper_functions.rotate_xlabels(ax)"
   ]
  },
  {
   "cell_type": "markdown",
   "id": "1eef8257",
   "metadata": {},
   "source": [
    "## 8.3 dep_time"
   ]
  },
  {
   "cell_type": "code",
   "execution_count": 35,
   "id": "1fbef143",
   "metadata": {},
   "outputs": [
    {
     "ename": "NameError",
     "evalue": "name 'train' is not defined",
     "output_type": "error",
     "traceback": [
      "\u001b[0;31m---------------------------------------------------------------------------\u001b[0m",
      "\u001b[0;31mNameError\u001b[0m                                 Traceback (most recent call last)",
      "Cell \u001b[0;32mIn[35], line 1\u001b[0m\n\u001b[0;32m----> 1\u001b[0m \u001b[43mtrain\u001b[49m\u001b[38;5;241m.\u001b[39mdep_time\n",
      "\u001b[0;31mNameError\u001b[0m: name 'train' is not defined"
     ]
    }
   ],
   "source": [
    "train.dep_time"
   ]
  },
  {
   "cell_type": "code",
   "execution_count": 36,
   "id": "788b3d75",
   "metadata": {},
   "outputs": [
    {
     "ename": "NameError",
     "evalue": "name 'eda_helper_functions' is not defined",
     "output_type": "error",
     "traceback": [
      "\u001b[0;31m---------------------------------------------------------------------------\u001b[0m",
      "\u001b[0;31mNameError\u001b[0m                                 Traceback (most recent call last)",
      "Cell \u001b[0;32mIn[36], line 1\u001b[0m\n\u001b[0;32m----> 1\u001b[0m \u001b[43meda_helper_functions\u001b[49m\u001b[38;5;241m.\u001b[39mdt_univar_plots(train, \u001b[38;5;124m\"\u001b[39m\u001b[38;5;124mdep_time\u001b[39m\u001b[38;5;124m\"\u001b[39m, \u001b[38;5;124m\"\u001b[39m\u001b[38;5;124mprice\u001b[39m\u001b[38;5;124m\"\u001b[39m)\n",
      "\u001b[0;31mNameError\u001b[0m: name 'eda_helper_functions' is not defined"
     ]
    }
   ],
   "source": [
    "eda_helper_functions.dt_univar_plots(train, \"dep_time\", \"price\")"
   ]
  },
  {
   "cell_type": "code",
   "execution_count": 37,
   "id": "ffe041f3",
   "metadata": {},
   "outputs": [
    {
     "ename": "NameError",
     "evalue": "name 'train' is not defined",
     "output_type": "error",
     "traceback": [
      "\u001b[0;31m---------------------------------------------------------------------------\u001b[0m",
      "\u001b[0;31mNameError\u001b[0m                                 Traceback (most recent call last)",
      "Cell \u001b[0;32mIn[37], line 2\u001b[0m\n\u001b[1;32m      1\u001b[0m (\n\u001b[0;32m----> 2\u001b[0m \t\u001b[43mtrain\u001b[49m\n\u001b[1;32m      3\u001b[0m \t\u001b[38;5;241m.\u001b[39massign(dep_time\u001b[38;5;241m=\u001b[39m\u001b[38;5;28;01mlambda\u001b[39;00m df_: (\n\u001b[1;32m      4\u001b[0m \t\tnp\u001b[38;5;241m.\u001b[39mselect([df_\u001b[38;5;241m.\u001b[39mdep_time\u001b[38;5;241m.\u001b[39mdt\u001b[38;5;241m.\u001b[39mhour\u001b[38;5;241m.\u001b[39mbetween(\u001b[38;5;241m4\u001b[39m, \u001b[38;5;241m12\u001b[39m, inclusive\u001b[38;5;241m=\u001b[39m\u001b[38;5;124m\"\u001b[39m\u001b[38;5;124mleft\u001b[39m\u001b[38;5;124m\"\u001b[39m),\n\u001b[1;32m      5\u001b[0m \t\t\t\t   df_\u001b[38;5;241m.\u001b[39mdep_time\u001b[38;5;241m.\u001b[39mdt\u001b[38;5;241m.\u001b[39mhour\u001b[38;5;241m.\u001b[39mbetween(\u001b[38;5;241m12\u001b[39m, \u001b[38;5;241m16\u001b[39m, inclusive\u001b[38;5;241m=\u001b[39m\u001b[38;5;124m\"\u001b[39m\u001b[38;5;124mleft\u001b[39m\u001b[38;5;124m\"\u001b[39m),\n\u001b[1;32m      6\u001b[0m \t\t\t\t   df_\u001b[38;5;241m.\u001b[39mdep_time\u001b[38;5;241m.\u001b[39mdt\u001b[38;5;241m.\u001b[39mhour\u001b[38;5;241m.\u001b[39mbetween(\u001b[38;5;241m16\u001b[39m, \u001b[38;5;241m20\u001b[39m, inclusive\u001b[38;5;241m=\u001b[39m\u001b[38;5;124m\"\u001b[39m\u001b[38;5;124mleft\u001b[39m\u001b[38;5;124m\"\u001b[39m)],\n\u001b[1;32m      7\u001b[0m \t\t\t\t  [\u001b[38;5;124m\"\u001b[39m\u001b[38;5;124mmorning\u001b[39m\u001b[38;5;124m\"\u001b[39m, \u001b[38;5;124m\"\u001b[39m\u001b[38;5;124mafternoon\u001b[39m\u001b[38;5;124m\"\u001b[39m, \u001b[38;5;124m\"\u001b[39m\u001b[38;5;124mevening\u001b[39m\u001b[38;5;124m\"\u001b[39m],\n\u001b[1;32m      8\u001b[0m \t\t\t\t  default\u001b[38;5;241m=\u001b[39m\u001b[38;5;124m\"\u001b[39m\u001b[38;5;124mnight\u001b[39m\u001b[38;5;124m\"\u001b[39m)\n\u001b[1;32m      9\u001b[0m \t))\n\u001b[1;32m     10\u001b[0m \t\u001b[38;5;241m.\u001b[39mpipe(eda_helper_functions\u001b[38;5;241m.\u001b[39mnum_cat_bivar_plots, \u001b[38;5;124m\"\u001b[39m\u001b[38;5;124mprice\u001b[39m\u001b[38;5;124m\"\u001b[39m, \u001b[38;5;124m\"\u001b[39m\u001b[38;5;124mdep_time\u001b[39m\u001b[38;5;124m\"\u001b[39m)\n\u001b[1;32m     11\u001b[0m )\n",
      "\u001b[0;31mNameError\u001b[0m: name 'train' is not defined"
     ]
    }
   ],
   "source": [
    "(\n",
    "\ttrain\n",
    "\t.assign(dep_time=lambda df_: (\n",
    "\t\tnp.select([df_.dep_time.dt.hour.between(4, 12, inclusive=\"left\"),\n",
    "\t\t\t\t   df_.dep_time.dt.hour.between(12, 16, inclusive=\"left\"),\n",
    "\t\t\t\t   df_.dep_time.dt.hour.between(16, 20, inclusive=\"left\")],\n",
    "\t\t\t\t  [\"morning\", \"afternoon\", \"evening\"],\n",
    "\t\t\t\t  default=\"night\")\n",
    "\t))\n",
    "\t.pipe(eda_helper_functions.num_cat_bivar_plots, \"price\", \"dep_time\")\n",
    ")"
   ]
  },
  {
   "cell_type": "markdown",
   "id": "e6c3e6ca",
   "metadata": {},
   "source": [
    "## 8.4 duration"
   ]
  },
  {
   "cell_type": "code",
   "execution_count": 38,
   "id": "0f4bc10a",
   "metadata": {},
   "outputs": [
    {
     "ename": "NameError",
     "evalue": "name 'train' is not defined",
     "output_type": "error",
     "traceback": [
      "\u001b[0;31m---------------------------------------------------------------------------\u001b[0m",
      "\u001b[0;31mNameError\u001b[0m                                 Traceback (most recent call last)",
      "Cell \u001b[0;32mIn[38], line 1\u001b[0m\n\u001b[0;32m----> 1\u001b[0m \u001b[43mtrain\u001b[49m\u001b[38;5;241m.\u001b[39mduration\n",
      "\u001b[0;31mNameError\u001b[0m: name 'train' is not defined"
     ]
    }
   ],
   "source": [
    "train.duration"
   ]
  },
  {
   "cell_type": "code",
   "execution_count": 39,
   "id": "0e1ea5b4",
   "metadata": {},
   "outputs": [
    {
     "ename": "NameError",
     "evalue": "name 'eda_helper_functions' is not defined",
     "output_type": "error",
     "traceback": [
      "\u001b[0;31m---------------------------------------------------------------------------\u001b[0m",
      "\u001b[0;31mNameError\u001b[0m                                 Traceback (most recent call last)",
      "Cell \u001b[0;32mIn[39], line 1\u001b[0m\n\u001b[0;32m----> 1\u001b[0m \u001b[43meda_helper_functions\u001b[49m\u001b[38;5;241m.\u001b[39mnum_summary(train, \u001b[38;5;124m\"\u001b[39m\u001b[38;5;124mduration\u001b[39m\u001b[38;5;124m\"\u001b[39m)\n",
      "\u001b[0;31mNameError\u001b[0m: name 'eda_helper_functions' is not defined"
     ]
    }
   ],
   "source": [
    "eda_helper_functions.num_summary(train, \"duration\")"
   ]
  },
  {
   "cell_type": "code",
   "execution_count": 40,
   "id": "a38ab5b1",
   "metadata": {},
   "outputs": [
    {
     "ename": "NameError",
     "evalue": "name 'train' is not defined",
     "output_type": "error",
     "traceback": [
      "\u001b[0;31m---------------------------------------------------------------------------\u001b[0m",
      "\u001b[0;31mNameError\u001b[0m                                 Traceback (most recent call last)",
      "Cell \u001b[0;32mIn[40], line 1\u001b[0m\n\u001b[0;32m----> 1\u001b[0m \u001b[43mtrain\u001b[49m\u001b[38;5;241m.\u001b[39mduration\u001b[38;5;241m.\u001b[39mquantile([\u001b[38;5;241m0.25\u001b[39m, \u001b[38;5;241m0.5\u001b[39m, \u001b[38;5;241m0.75\u001b[39m])\n",
      "\u001b[0;31mNameError\u001b[0m: name 'train' is not defined"
     ]
    }
   ],
   "source": [
    "train.duration.quantile([0.25, 0.5, 0.75])"
   ]
  },
  {
   "cell_type": "code",
   "execution_count": 41,
   "id": "b57a6c80",
   "metadata": {},
   "outputs": [
    {
     "ename": "NameError",
     "evalue": "name 'eda_helper_functions' is not defined",
     "output_type": "error",
     "traceback": [
      "\u001b[0;31m---------------------------------------------------------------------------\u001b[0m",
      "\u001b[0;31mNameError\u001b[0m                                 Traceback (most recent call last)",
      "Cell \u001b[0;32mIn[41], line 1\u001b[0m\n\u001b[0;32m----> 1\u001b[0m \u001b[43meda_helper_functions\u001b[49m\u001b[38;5;241m.\u001b[39mnum_univar_plots(train, \u001b[38;5;124m\"\u001b[39m\u001b[38;5;124mduration\u001b[39m\u001b[38;5;124m\"\u001b[39m)\n",
      "\u001b[0;31mNameError\u001b[0m: name 'eda_helper_functions' is not defined"
     ]
    }
   ],
   "source": [
    "eda_helper_functions.num_univar_plots(train, \"duration\")"
   ]
  },
  {
   "cell_type": "code",
   "execution_count": 42,
   "id": "e2e37eff",
   "metadata": {},
   "outputs": [
    {
     "ename": "NameError",
     "evalue": "name 'eda_helper_functions' is not defined",
     "output_type": "error",
     "traceback": [
      "\u001b[0;31m---------------------------------------------------------------------------\u001b[0m",
      "\u001b[0;31mNameError\u001b[0m                                 Traceback (most recent call last)",
      "Cell \u001b[0;32mIn[42], line 1\u001b[0m\n\u001b[0;32m----> 1\u001b[0m \u001b[43meda_helper_functions\u001b[49m\u001b[38;5;241m.\u001b[39mnum_bivar_plots(\n\u001b[1;32m      2\u001b[0m \ttrain,\n\u001b[1;32m      3\u001b[0m \t\u001b[38;5;124m\"\u001b[39m\u001b[38;5;124mduration\u001b[39m\u001b[38;5;124m\"\u001b[39m,\n\u001b[1;32m      4\u001b[0m \t\u001b[38;5;124m\"\u001b[39m\u001b[38;5;124mprice\u001b[39m\u001b[38;5;124m\"\u001b[39m,\n\u001b[1;32m      5\u001b[0m \thexbin_kwargs\u001b[38;5;241m=\u001b[39m\u001b[38;5;28mdict\u001b[39m(\n\u001b[1;32m      6\u001b[0m \t\tyscale\u001b[38;5;241m=\u001b[39m\u001b[38;5;124m\"\u001b[39m\u001b[38;5;124mlog\u001b[39m\u001b[38;5;124m\"\u001b[39m,\n\u001b[1;32m      7\u001b[0m \t\tgridsize\u001b[38;5;241m=\u001b[39m\u001b[38;5;241m20\u001b[39m,\n\u001b[1;32m      8\u001b[0m \t\tcmap\u001b[38;5;241m=\u001b[39m\u001b[38;5;124m\"\u001b[39m\u001b[38;5;124mBlues\u001b[39m\u001b[38;5;124m\"\u001b[39m\n\u001b[1;32m      9\u001b[0m \t)\n\u001b[1;32m     10\u001b[0m )\n",
      "\u001b[0;31mNameError\u001b[0m: name 'eda_helper_functions' is not defined"
     ]
    }
   ],
   "source": [
    "eda_helper_functions.num_bivar_plots(\n",
    "\ttrain,\n",
    "\t\"duration\",\n",
    "\t\"price\",\n",
    "\thexbin_kwargs=dict(\n",
    "\t\tyscale=\"log\",\n",
    "\t\tgridsize=20,\n",
    "\t\tcmap=\"Blues\"\n",
    "\t)\n",
    ")"
   ]
  },
  {
   "cell_type": "code",
   "execution_count": 43,
   "id": "4f4f2e1b",
   "metadata": {},
   "outputs": [
    {
     "ename": "NameError",
     "evalue": "name 'eda_helper_functions' is not defined",
     "output_type": "error",
     "traceback": [
      "\u001b[0;31m---------------------------------------------------------------------------\u001b[0m",
      "\u001b[0;31mNameError\u001b[0m                                 Traceback (most recent call last)",
      "Cell \u001b[0;32mIn[43], line 1\u001b[0m\n\u001b[0;32m----> 1\u001b[0m \u001b[43meda_helper_functions\u001b[49m\u001b[38;5;241m.\u001b[39mnum_num_hyp_testing(train, \u001b[38;5;124m\"\u001b[39m\u001b[38;5;124mprice\u001b[39m\u001b[38;5;124m\"\u001b[39m, \u001b[38;5;124m\"\u001b[39m\u001b[38;5;124mduration\u001b[39m\u001b[38;5;124m\"\u001b[39m)\n",
      "\u001b[0;31mNameError\u001b[0m: name 'eda_helper_functions' is not defined"
     ]
    }
   ],
   "source": [
    "eda_helper_functions.num_num_hyp_testing(train, \"price\", \"duration\")"
   ]
  },
  {
   "cell_type": "code",
   "execution_count": 44,
   "id": "db613799",
   "metadata": {},
   "outputs": [
    {
     "ename": "NameError",
     "evalue": "name 'sns' is not defined",
     "output_type": "error",
     "traceback": [
      "\u001b[0;31m---------------------------------------------------------------------------\u001b[0m",
      "\u001b[0;31mNameError\u001b[0m                                 Traceback (most recent call last)",
      "Cell \u001b[0;32mIn[44], line 1\u001b[0m\n\u001b[0;32m----> 1\u001b[0m duration_grid \u001b[38;5;241m=\u001b[39m \u001b[43msns\u001b[49m\u001b[38;5;241m.\u001b[39mFacetGrid(\n\u001b[1;32m      2\u001b[0m \tdata\u001b[38;5;241m=\u001b[39mtrain,\n\u001b[1;32m      3\u001b[0m \tcol\u001b[38;5;241m=\u001b[39m\u001b[38;5;124m\"\u001b[39m\u001b[38;5;124msource\u001b[39m\u001b[38;5;124m\"\u001b[39m,\n\u001b[1;32m      4\u001b[0m \thue\u001b[38;5;241m=\u001b[39m\u001b[38;5;124m\"\u001b[39m\u001b[38;5;124mtotal_stops\u001b[39m\u001b[38;5;124m\"\u001b[39m,\n\u001b[1;32m      5\u001b[0m \tsharey\u001b[38;5;241m=\u001b[39m\u001b[38;5;28;01mTrue\u001b[39;00m\n\u001b[1;32m      6\u001b[0m )\n\u001b[1;32m      8\u001b[0m duration_grid\u001b[38;5;241m.\u001b[39mmap(sns\u001b[38;5;241m.\u001b[39mscatterplot, \u001b[38;5;124m\"\u001b[39m\u001b[38;5;124mduration\u001b[39m\u001b[38;5;124m\"\u001b[39m, \u001b[38;5;124m\"\u001b[39m\u001b[38;5;124mprice\u001b[39m\u001b[38;5;124m\"\u001b[39m)\n\u001b[1;32m     10\u001b[0m duration_grid\u001b[38;5;241m.\u001b[39madd_legend()\n",
      "\u001b[0;31mNameError\u001b[0m: name 'sns' is not defined"
     ]
    }
   ],
   "source": [
    "duration_grid = sns.FacetGrid(\n",
    "\tdata=train,\n",
    "\tcol=\"source\",\n",
    "\thue=\"total_stops\",\n",
    "\tsharey=True\n",
    ")\n",
    "\n",
    "duration_grid.map(sns.scatterplot, \"duration\", \"price\")\n",
    "\n",
    "duration_grid.add_legend()"
   ]
  },
  {
   "cell_type": "code",
   "execution_count": 45,
   "id": "876fc1b5",
   "metadata": {},
   "outputs": [
    {
     "ename": "NameError",
     "evalue": "name 'sns' is not defined",
     "output_type": "error",
     "traceback": [
      "\u001b[0;31m---------------------------------------------------------------------------\u001b[0m",
      "\u001b[0;31mNameError\u001b[0m                                 Traceback (most recent call last)",
      "Cell \u001b[0;32mIn[45], line 1\u001b[0m\n\u001b[0;32m----> 1\u001b[0m duration_grid \u001b[38;5;241m=\u001b[39m \u001b[43msns\u001b[49m\u001b[38;5;241m.\u001b[39mFacetGrid(\n\u001b[1;32m      2\u001b[0m \tdata\u001b[38;5;241m=\u001b[39mtrain,\n\u001b[1;32m      3\u001b[0m \tcol\u001b[38;5;241m=\u001b[39m\u001b[38;5;124m\"\u001b[39m\u001b[38;5;124msource\u001b[39m\u001b[38;5;124m\"\u001b[39m,\n\u001b[1;32m      4\u001b[0m \trow\u001b[38;5;241m=\u001b[39m\u001b[38;5;124m\"\u001b[39m\u001b[38;5;124madditional_info\u001b[39m\u001b[38;5;124m\"\u001b[39m,\n\u001b[1;32m      5\u001b[0m \thue\u001b[38;5;241m=\u001b[39m\u001b[38;5;124m\"\u001b[39m\u001b[38;5;124mtotal_stops\u001b[39m\u001b[38;5;124m\"\u001b[39m,\n\u001b[1;32m      6\u001b[0m \tsharey\u001b[38;5;241m=\u001b[39m\u001b[38;5;28;01mTrue\u001b[39;00m\n\u001b[1;32m      7\u001b[0m )\n\u001b[1;32m      9\u001b[0m duration_grid\u001b[38;5;241m.\u001b[39mmap(sns\u001b[38;5;241m.\u001b[39mscatterplot, \u001b[38;5;124m\"\u001b[39m\u001b[38;5;124mduration\u001b[39m\u001b[38;5;124m\"\u001b[39m, \u001b[38;5;124m\"\u001b[39m\u001b[38;5;124mprice\u001b[39m\u001b[38;5;124m\"\u001b[39m)\n\u001b[1;32m     11\u001b[0m duration_grid\u001b[38;5;241m.\u001b[39madd_legend()\n",
      "\u001b[0;31mNameError\u001b[0m: name 'sns' is not defined"
     ]
    }
   ],
   "source": [
    "duration_grid = sns.FacetGrid(\n",
    "\tdata=train,\n",
    "\tcol=\"source\",\n",
    "\trow=\"additional_info\",\n",
    "\thue=\"total_stops\",\n",
    "\tsharey=True\n",
    ")\n",
    "\n",
    "duration_grid.map(sns.scatterplot, \"duration\", \"price\")\n",
    "\n",
    "duration_grid.add_legend()"
   ]
  },
  {
   "cell_type": "code",
   "execution_count": 46,
   "id": "0d0f4920",
   "metadata": {},
   "outputs": [
    {
     "ename": "NameError",
     "evalue": "name 'eda_helper_functions' is not defined",
     "output_type": "error",
     "traceback": [
      "\u001b[0;31m---------------------------------------------------------------------------\u001b[0m",
      "\u001b[0;31mNameError\u001b[0m                                 Traceback (most recent call last)",
      "Cell \u001b[0;32mIn[46], line 1\u001b[0m\n\u001b[0;32m----> 1\u001b[0m \u001b[43meda_helper_functions\u001b[49m\u001b[38;5;241m.\u001b[39mget_iqr_outliers(train, \u001b[38;5;124m\"\u001b[39m\u001b[38;5;124mduration\u001b[39m\u001b[38;5;124m\"\u001b[39m)\n",
      "\u001b[0;31mNameError\u001b[0m: name 'eda_helper_functions' is not defined"
     ]
    }
   ],
   "source": [
    "eda_helper_functions.get_iqr_outliers(train, \"duration\")"
   ]
  },
  {
   "cell_type": "markdown",
   "id": "05434b71",
   "metadata": {},
   "source": [
    "## 8.5 additional_info"
   ]
  },
  {
   "cell_type": "code",
   "execution_count": 47,
   "id": "907e85ca",
   "metadata": {},
   "outputs": [
    {
     "ename": "NameError",
     "evalue": "name 'eda_helper_functions' is not defined",
     "output_type": "error",
     "traceback": [
      "\u001b[0;31m---------------------------------------------------------------------------\u001b[0m",
      "\u001b[0;31mNameError\u001b[0m                                 Traceback (most recent call last)",
      "Cell \u001b[0;32mIn[47], line 1\u001b[0m\n\u001b[0;32m----> 1\u001b[0m \u001b[43meda_helper_functions\u001b[49m\u001b[38;5;241m.\u001b[39mcat_summary(train, \u001b[38;5;124m\"\u001b[39m\u001b[38;5;124madditional_info\u001b[39m\u001b[38;5;124m\"\u001b[39m)\n",
      "\u001b[0;31mNameError\u001b[0m: name 'eda_helper_functions' is not defined"
     ]
    }
   ],
   "source": [
    "eda_helper_functions.cat_summary(train, \"additional_info\")"
   ]
  },
  {
   "cell_type": "code",
   "execution_count": 48,
   "id": "cd3aeb96",
   "metadata": {},
   "outputs": [
    {
     "ename": "NameError",
     "evalue": "name 'eda_helper_functions' is not defined",
     "output_type": "error",
     "traceback": [
      "\u001b[0;31m---------------------------------------------------------------------------\u001b[0m",
      "\u001b[0;31mNameError\u001b[0m                                 Traceback (most recent call last)",
      "Cell \u001b[0;32mIn[48], line 1\u001b[0m\n\u001b[0;32m----> 1\u001b[0m \u001b[43meda_helper_functions\u001b[49m\u001b[38;5;241m.\u001b[39mnum_cat_bivar_plots(train, \u001b[38;5;124m\"\u001b[39m\u001b[38;5;124mprice\u001b[39m\u001b[38;5;124m\"\u001b[39m, \u001b[38;5;124m\"\u001b[39m\u001b[38;5;124madditional_info\u001b[39m\u001b[38;5;124m\"\u001b[39m)\n",
      "\u001b[0;31mNameError\u001b[0m: name 'eda_helper_functions' is not defined"
     ]
    }
   ],
   "source": [
    "eda_helper_functions.num_cat_bivar_plots(train, \"price\", \"additional_info\")"
   ]
  },
  {
   "cell_type": "code",
   "execution_count": 49,
   "id": "5f8f2251",
   "metadata": {},
   "outputs": [
    {
     "ename": "NameError",
     "evalue": "name 'train' is not defined",
     "output_type": "error",
     "traceback": [
      "\u001b[0;31m---------------------------------------------------------------------------\u001b[0m",
      "\u001b[0;31mNameError\u001b[0m                                 Traceback (most recent call last)",
      "Cell \u001b[0;32mIn[49], line 4\u001b[0m\n\u001b[1;32m      1\u001b[0m \u001b[38;5;66;03m# convertion additional_info into a binary feature for analysis\u001b[39;00m\n\u001b[1;32m      3\u001b[0m (\n\u001b[0;32m----> 4\u001b[0m \t\u001b[43mtrain\u001b[49m\n\u001b[1;32m      5\u001b[0m \t\u001b[38;5;241m.\u001b[39massign(additional_info\u001b[38;5;241m=\u001b[39m(\n\u001b[1;32m      6\u001b[0m \t\ttrain\n\u001b[1;32m      7\u001b[0m \t\t\u001b[38;5;241m.\u001b[39madditional_info\n\u001b[1;32m      8\u001b[0m \t\t\u001b[38;5;241m.\u001b[39mpipe(\u001b[38;5;28;01mlambda\u001b[39;00m ser: np\u001b[38;5;241m.\u001b[39mwhere(ser\u001b[38;5;241m.\u001b[39meq(\u001b[38;5;124m\"\u001b[39m\u001b[38;5;124mNo Info\u001b[39m\u001b[38;5;124m\"\u001b[39m), \u001b[38;5;124m\"\u001b[39m\u001b[38;5;124mno\u001b[39m\u001b[38;5;124m\"\u001b[39m, \u001b[38;5;124m\"\u001b[39m\u001b[38;5;124myes\u001b[39m\u001b[38;5;124m\"\u001b[39m))\n\u001b[1;32m      9\u001b[0m \t))\n\u001b[1;32m     10\u001b[0m \t\u001b[38;5;241m.\u001b[39mpipe(eda_helper_functions\u001b[38;5;241m.\u001b[39mnum_cat_bivar_plots, \u001b[38;5;124m\"\u001b[39m\u001b[38;5;124mprice\u001b[39m\u001b[38;5;124m\"\u001b[39m, \u001b[38;5;124m\"\u001b[39m\u001b[38;5;124madditional_info\u001b[39m\u001b[38;5;124m\"\u001b[39m)\n\u001b[1;32m     11\u001b[0m )\n",
      "\u001b[0;31mNameError\u001b[0m: name 'train' is not defined"
     ]
    }
   ],
   "source": [
    "# convertion additional_info into a binary feature for analysis\n",
    "\n",
    "(\n",
    "\ttrain\n",
    "\t.assign(additional_info=(\n",
    "\t\ttrain\n",
    "\t\t.additional_info\n",
    "\t\t.pipe(lambda ser: np.where(ser.eq(\"No Info\"), \"no\", \"yes\"))\n",
    "\t))\n",
    "\t.pipe(eda_helper_functions.num_cat_bivar_plots, \"price\", \"additional_info\")\n",
    ")\n"
   ]
  },
  {
   "cell_type": "markdown",
   "id": "09b77e44",
   "metadata": {},
   "source": [
    "- additional_info has severely rare categories\n",
    "- Converted it into a binary feature for further analysis"
   ]
  },
  {
   "cell_type": "markdown",
   "id": "6b98ffe6",
   "metadata": {},
   "source": [
    "## 9. Automated EDA"
   ]
  },
  {
   "cell_type": "code",
   "execution_count": null,
   "id": "ba1e8ee0",
   "metadata": {},
   "outputs": [],
   "source": [
    "# from ydata_profiling import ProfileReport"
   ]
  },
  {
   "cell_type": "code",
   "execution_count": 50,
   "id": "145886c0",
   "metadata": {},
   "outputs": [],
   "source": [
    "# report = ProfileReport(train)"
   ]
  },
  {
   "cell_type": "code",
   "execution_count": null,
   "id": "9769f211",
   "metadata": {},
   "outputs": [],
   "source": [
    "# report.to_file(output_file=\"output.html\")\n"
   ]
  }
 ],
 "metadata": {
  "kernelspec": {
   "display_name": "Python 3 (ipykernel)",
   "language": "python",
   "name": "python3"
  },
  "language_info": {
   "codemirror_mode": {
    "name": "ipython",
    "version": 3
   },
   "file_extension": ".py",
   "mimetype": "text/x-python",
   "name": "python",
   "nbconvert_exporter": "python",
   "pygments_lexer": "ipython3",
   "version": "3.8.0"
  }
 },
 "nbformat": 4,
 "nbformat_minor": 5
}
